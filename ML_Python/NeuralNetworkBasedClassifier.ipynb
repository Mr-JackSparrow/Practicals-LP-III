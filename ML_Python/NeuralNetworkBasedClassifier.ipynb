{
 "cells": [
  {
   "cell_type": "code",
   "execution_count": null,
   "id": "302adc8c-3bb3-4c59-8d55-9e2da8f6388f",
   "metadata": {},
   "outputs": [],
   "source": [
    "import pandas as pd\n",
    "import numpy as np \n",
    "import seaborn as sns \n",
    "import matplotlib.pyplot as plt #Importing the libraries \n",
    "df = pd.read_csv(\"Churn_Modelling.csv\")"
   ]
  },
  {
   "cell_type": "code",
   "execution_count": null,
   "id": "ba04d011-4c89-4757-9fa1-a194224f0109",
   "metadata": {},
   "outputs": [],
   "source": [
    "df.head() \n",
    "df.shape \n",
    "df.describe() \n",
    "df.isnull() \n",
    "df.isnull().sum() \n",
    "df.info() \n",
    "df.dtypes \n",
    "df.columns \n",
    "df = df.drop(['RowNumber', 'Surname', 'CustomerId'], axis= 1) #Dropping the unnecessary colum\n",
    " ns \n",
    "df.head()"
   ]
  },
  {
   "cell_type": "code",
   "execution_count": null,
   "id": "9f2ff52e-5bc1-4c87-922e-8bde04908ae8",
   "metadata": {},
   "outputs": [],
   "source": [
    "def visualization(x, y, xlabel): \n",
    "    plt.figure(figsize=(10,5)) \n",
    "    plt.hist([x, y], color=['red', 'green'], label = ['exit', 'not_exit']) \n",
    "    plt.xlabel(xlabel,fontsize=20) \n",
    "    plt.ylabel(\"No. of customers\", fontsize=20) \n",
    "    plt.legend() \n",
    "df_churn_exited = df[df['Exited']==1]['Tenure'] \n",
    "df_churn_not_exited = df[df['Exited']==0]['Tenure']\n",
    "visualization(df_churn_exited, df_churn_not_exited, \"Tenure\") \n",
    "df_churn_exited2 = df[df['Exited']==1]['Age'] \n",
    "df_churn_not_exited2 = df[df['Exited']==0]['Age'] \n",
    "visualization(df_churn_exited2, df_churn_not_exited2, \"Age\")"
   ]
  },
  {
   "cell_type": "code",
   "execution_count": null,
   "id": "71e0777c-87de-4b2d-b1d8-bbac5cb3ccb1",
   "metadata": {},
   "outputs": [],
   "source": [
    "X = df[['CreditScore','Gender','Age','Tenure','Balance','NumOfProducts','HasCrCard','IsActiveMember','EstimatedSalary']] \n",
    "states = pd.get_dummies(df['Geography'],drop_first = True) \n",
    "gender = pd.get_dummies(df['Gender'],drop_first = True) \n",
    "df = pd.concat([df,gender,states], axis = 1) "
   ]
  },
  {
   "cell_type": "code",
   "execution_count": null,
   "id": "ddc4c816-01df-4825-b29a-2659cfad4838",
   "metadata": {},
   "outputs": [],
   "source": [
    "df.head() \n",
    "X = df[['CreditScore','Age','Tenure','Balance','NumOfProducts','HasCrCard','IsActiveMember','EstimatedSalary','Male','Germany','Spain']] \n",
    "y = df['Exited'] \n",
    "from sklearn.model_selection import train_test_split \n",
    "X_train,X_test,y_train,y_test = train_test_split(X,y,test_size = 0.30) "
   ]
  },
  {
   "cell_type": "code",
   "execution_count": null,
   "id": "18d8f9a1-1b0a-4ade-81fb-4aa5ebe4bee7",
   "metadata": {},
   "outputs": [],
   "source": [
    "from sklearn.preprocessing import StandardScaler \n",
    "sc = StandardScaler() \n",
    "X_train  = sc.fit_transform(X_train) \n",
    "X_test = sc.transform(X_test) \n",
    "X_train \n",
    "X_test"
   ]
  },
  {
   "cell_type": "code",
   "execution_count": null,
   "id": "34ad2a96-7f46-4207-9a4e-c3f965b47a2b",
   "metadata": {},
   "outputs": [],
   "source": [
    "import keras \n",
    "from keras.models import Sequential \n",
    "from keras.layers import Dense \n",
    "classifier = Sequential()"
   ]
  },
  {
   "cell_type": "code",
   "execution_count": null,
   "id": "b7623d42-fb9c-42e7-bc83-83c5c96dafc8",
   "metadata": {},
   "outputs": [],
   "source": [
    "classifier.add(Dense(activation = \"relu\",input_dim = 11,units = 6,kernel_initializer = \"uniform\"))  \n",
    "classifier.add(Dense(activation = \"relu\",units = 6,kernel_initializer = \"uniform\"))  \n",
    "classifier.add(Dense(activation = \"sigmoid\",units = 1,kernel_initializer = \"uniform\")) \n",
    "classifier.compile(optimizer=\"adam\",loss = 'binary_crossentropy',metrics = ['accuracy']) \n",
    " pile the Artificial Neural Network. Ussed Binary crossentropy as we just have only two output \n",
    "classifier.summary() \n",
    "classifier.fit(X_train,y_train,batch_size=10,epochs=50)\n",
    "y_pred =classifier.predict(X_test) \n",
    "y_pred = (y_pred > 0.5) \n",
    "from sklearn.metrics import confusion_matrix,accuracy_score,classification_report \n",
    "cm = confusion_matrix(y_test,y_pred) \n",
    "cm \n",
    "accuracy = accuracy_score(y_test,y_pred) \n",
    "accuracy \n",
    "plt.figure(figsize = (10,7)) \n",
    "sns.heatmap(cm,annot = True) \n",
    "plt.xlabel('Predicted') \n",
    "plt.ylabel('Truth') \n",
    "print(classification_report(y_test,y_pred))"
   ]
  },
  {
   "cell_type": "code",
   "execution_count": null,
   "id": "fb5c2d10-cce4-4c3b-af25-513cecb9aea1",
   "metadata": {},
   "outputs": [],
   "source": []
  },
  {
   "cell_type": "code",
   "execution_count": null,
   "id": "1b57e92f-bcb5-4f2d-b46a-b4f16465b265",
   "metadata": {},
   "outputs": [],
   "source": []
  }
 ],
 "metadata": {
  "kernelspec": {
   "display_name": "Python 3 (ipykernel)",
   "language": "python",
   "name": "python3"
  },
  "language_info": {
   "codemirror_mode": {
    "name": "ipython",
    "version": 3
   },
   "file_extension": ".py",
   "mimetype": "text/x-python",
   "name": "python",
   "nbconvert_exporter": "python",
   "pygments_lexer": "ipython3",
   "version": "3.12.4"
  }
 },
 "nbformat": 4,
 "nbformat_minor": 5
}
