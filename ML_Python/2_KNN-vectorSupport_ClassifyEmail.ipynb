{
 "cells": [
  {
   "cell_type": "code",
   "execution_count": null,
   "id": "9430d95a-1f2d-4db4-8dd3-8f2d8d84819a",
   "metadata": {},
   "outputs": [],
   "source": [
    "import numpy as np \n",
    "import seaborn as sns \n",
    "import matplotlib.pyplot as plt \n",
    "%matplotlib inline \n",
    "import warnings \n",
    "warnings.filterwarnings('ignore') \n",
    "from sklearn.model_selection import train_test_split \n",
    "from sklearn.svm import SVC \n",
    "from sklearn import metrics "
   ]
  },
  {
   "cell_type": "code",
   "execution_count": null,
   "id": "ef6298eb-a1f7-44c1-9454-bbbbf05b5fb8",
   "metadata": {},
   "outputs": [],
   "source": [
    "df=pd.read_csv('emails.csv') \n",
    "df.head() \n",
    "df.columns\n",
    "df.isnull().sum() \n",
    "df.dropna(inplace = True) \n",
    "df.drop(['Email No.'],axis=1,inplace=True) \n",
    "X = df.drop(['Prediction'],axis = 1) \n",
    "y = df['Prediction'] \n",
    "from sklearn.preprocessing import scale \n",
    "X = scale(X) "
   ]
  },
  {
   "cell_type": "code",
   "execution_count": null,
   "id": "e5753c5f-39b8-4a2e-afcf-d4d75769add6",
   "metadata": {},
   "outputs": [],
   "source": [
    "X_train, X_test, y_train, y_test = train_test_split(X, y, test_size = 0.3, random_state = 42) "
   ]
  },
  {
   "cell_type": "code",
   "execution_count": null,
   "id": "a812f067-3e4f-42e5-a458-d4475a73116c",
   "metadata": {},
   "outputs": [],
   "source": [
    "from sklearn.neighbors import KNeighborsClassifier \n",
    "knn = KNeighborsClassifier(n_neighbors=7) \n",
    "  \n",
    "knn.fit(X_train, y_train) \n",
    "y_pred = knn.predict(X_test) \n",
    "print(\"Prediction\",y_pred) \n",
    "print(\"KNN accuracy = \",metrics.accuracy_score(y_test,y_pred)) \n",
    "print(\"Confusion matrix\",metrics.confusion_matrix(y_test,y_pred)) "
   ]
  },
  {
   "cell_type": "code",
   "execution_count": null,
   "id": "8629a4cd-7b9f-4d06-a024-74aa22bb85c6",
   "metadata": {},
   "outputs": [],
   "source": []
  },
  {
   "cell_type": "code",
   "execution_count": null,
   "id": "a5dfa0f7-18b2-4a6c-b624-32414ba3c351",
   "metadata": {},
   "outputs": [],
   "source": []
  },
  {
   "cell_type": "code",
   "execution_count": null,
   "id": "f2ae37ee-4748-414f-b963-fba7fafb84dd",
   "metadata": {},
   "outputs": [],
   "source": []
  },
  {
   "cell_type": "code",
   "execution_count": null,
   "id": "1234fa6d-5bf2-4070-896e-de041f4fcc4a",
   "metadata": {},
   "outputs": [],
   "source": []
  },
  {
   "cell_type": "code",
   "execution_count": null,
   "id": "93eb5f2e-c135-42da-a548-96c8fad565f5",
   "metadata": {},
   "outputs": [],
   "source": []
  },
  {
   "cell_type": "code",
   "execution_count": null,
   "id": "bffde740-ebf0-4833-ba82-349ddfc5c729",
   "metadata": {},
   "outputs": [],
   "source": []
  }
 ],
 "metadata": {
  "kernelspec": {
   "display_name": "Python 3 (ipykernel)",
   "language": "python",
   "name": "python3"
  },
  "language_info": {
   "codemirror_mode": {
    "name": "ipython",
    "version": 3
   },
   "file_extension": ".py",
   "mimetype": "text/x-python",
   "name": "python",
   "nbconvert_exporter": "python",
   "pygments_lexer": "ipython3",
   "version": "3.12.4"
  }
 },
 "nbformat": 4,
 "nbformat_minor": 5
}
