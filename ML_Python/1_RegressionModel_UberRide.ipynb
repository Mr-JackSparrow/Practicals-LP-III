{
 "cells": [
  {
   "cell_type": "code",
   "execution_count": null,
   "id": "e62f259f-421e-4d44-8f22-9859e6ca75ba",
   "metadata": {},
   "outputs": [],
   "source": [
    "import pandas as pd \n",
    "import numpy as np \n",
    "import seaborn as sns \n",
    "import matplotlib.pyplot as plt"
   ]
  },
  {
   "cell_type": "code",
   "execution_count": null,
   "id": "77ece4b8-b265-4b03-aeb9-112a9e204e9f",
   "metadata": {},
   "outputs": [],
   "source": [
    "df  = pd.read_csv(\"uber.csv\") "
   ]
  },
  {
   "cell_type": "code",
   "execution_count": null,
   "id": "c3deb25f-2c4f-4d5c-a861-ab47ab4d908b",
   "metadata": {},
   "outputs": [],
   "source": [
    "df.head() \n",
    "df.info()\n",
    "df.columns\n",
    "df = df.drop(['Unnamed: 0', 'key'], axis= 1) \n",
    "df.head() \n",
    "df.shape\n",
    "df.dtypes\n",
    "df.info() \n",
    "df.describe()"
   ]
  },
  {
   "cell_type": "code",
   "execution_count": null,
   "id": "c161b14b-0ecc-499f-afe7-b841f615d235",
   "metadata": {},
   "outputs": [],
   "source": [
    "df.isnull().sum()  \n",
    "df['dropoff_latitude'].fillna(value=df['dropoff_latitude'].mean(),inplace = True) \n",
    "df['dropoff_longitude'].fillna(value=df['dropoff_longitude'].median(),inplace = True) \n",
    "df.isnull().sum()  \n",
    "df.dtypes "
   ]
  },
  {
   "cell_type": "code",
   "execution_count": null,
   "id": "b164241b-3f92-4a93-8a13-6cd667f2d052",
   "metadata": {},
   "outputs": [],
   "source": [
    "df.pickup_datetime = pd.to_datetime(df.pickup_datetime, errors='coerce')  \n",
    "df.dtypes "
   ]
  },
  {
   "cell_type": "code",
   "execution_count": null,
   "id": "c10a3384-9c25-44d8-a185-0c8bbb098b80",
   "metadata": {},
   "outputs": [],
   "source": [
    "df= df.assign(hour = df.pickup_datetime.dt.hour, \n",
    "             day= df.pickup_datetime.dt.day, \n",
    "             month = df.pickup_datetime.dt.month, \n",
    "             year = df.pickup_datetime.dt.year, \n",
    "             dayofweek = df.pickup_datetime.dt.dayofweek) \n",
    "df.head() "
   ]
  },
  {
   "cell_type": "code",
   "execution_count": null,
   "id": "f9f8ad93-9a08-46c6-ad3c-e3fe16ebe90c",
   "metadata": {},
   "outputs": [],
   "source": [
    "df = df.drop('pickup_datetime',axis=1) \n",
    "df.head() \n",
    "df.dtypes "
   ]
  },
  {
   "cell_type": "code",
   "execution_count": null,
   "id": "8200ed01-5670-4c26-8cc3-cb7b58817cbc",
   "metadata": {},
   "outputs": [],
   "source": [
    "df.plot(kind = \"box\",subplots = True,layout = (7,2),figsize=(15,20))\n",
    "def remove_outlier(df1 , col): \n",
    "    Q1 = df1[col].quantile(0.25) \n",
    "    Q3 = df1[col].quantile(0.75) \n",
    "    IQR = Q3 - Q1 \n",
    "    lower_whisker = Q1-1.5*IQR \n",
    "    upper_whisker = Q3+1.5*IQR \n",
    "    df[col] = np.clip(df1[col] , lower_whisker , upper_whisker) \n",
    "    return df1 \n",
    " \n",
    "def treat_outliers_all(df1 , col_list): \n",
    "    for c in col_list: \n",
    "        df1 = remove_outlier(df , c) \n",
    "    return df1 \n",
    "df = treat_outliers_all(df , df.iloc[: , 0::]) \n",
    "df.plot(kind = \"box\",subplots = True,layout = (7,2),figsize=(15,20)) "
   ]
  },
  {
   "cell_type": "code",
   "execution_count": null,
   "id": "1f8ebe40-726e-46ff-add7-cc012ddc24d8",
   "metadata": {},
   "outputs": [],
   "source": [
    "import haversine as hs\n",
    "travel_dist = [] \n",
    "for pos in range(len(df['pickup_longitude'])): \n",
    "        long1,lati1,long2,lati2 = [df['pickup_longitude'][pos],df['pickup_latitude'][pos],df['dropoff_longitude'][pos],df['dropoff_latitude'][pos]] \n",
    "        loc1=(lati1,long1) \n",
    "        loc2=(lati2,long2) \n",
    "        c = hs.haversine(loc1,loc2)\n",
    "        travel_dist.append(c) \n",
    "print(travel_dist) \n",
    "df['dist_travel_km'] = travel_dist \n",
    "df.head()"
   ]
  },
  {
   "cell_type": "code",
   "execution_count": null,
   "id": "334170ac-a8ae-468f-b93f-4cbb9e0e96d1",
   "metadata": {},
   "outputs": [],
   "source": [
    "df= df.loc[(df.dist_travel_km >= 1) | (df.dist_travel_km <= 130)] \n",
    "print(\"Remaining observastions in the dataset:\", df.shape)"
   ]
  },
  {
   "cell_type": "code",
   "execution_count": null,
   "id": "3d3d84ca-f1ee-4778-910e-e496e4b2c50a",
   "metadata": {},
   "outputs": [],
   "source": [
    "incorrect_coordinates = df.loc[(df.pickup_latitude > 90) |(df.pickup_latitude < -90) | \n",
    "                                   (df.dropoff_latitude > 90) |(df.dropoff_latitude < -90) | \n",
    "                                   (df.pickup_longitude > 180) |(df.pickup_longitude < -180) | \n",
    "                                   (df.dropoff_longitude > 90) |(df.dropoff_longitude < -90) \n",
    "                                    ] \n",
    "df.drop(incorrect_coordinates, inplace = True, errors = 'ignore') \n",
    "df.head() \n",
    "df.isnull().sum() \n",
    "sns.heatmap(df.isnull()) #Free for null values \n",
    "corr = df.corr() #Function to find the correlation \n",
    "corr \n",
    "fig,axis = plt.subplots(figsize = (10,6)) \n",
    "sns.heatmap(df.corr(),annot = True) #Correlation Heatmap (Light values means highly correlated) "
   ]
  },
  {
   "cell_type": "code",
   "execution_count": null,
   "id": "b2195ac1-1954-4288-96b7-06b972e6539f",
   "metadata": {},
   "outputs": [],
   "source": [
    "x = df[['pickup_longitude','pickup_latitude','dropoff_longitude','dropoff_latitude','passenger_count','hour','day','month','year','dayofweek','dist_travel_km']] \n",
    "y = df['fare_amount'] "
   ]
  },
  {
   "cell_type": "code",
   "execution_count": null,
   "id": "c4f346fe-7540-4787-b203-525220f2c269",
   "metadata": {},
   "outputs": [],
   "source": [
    "from sklearn.model_selection import train_test_split \n",
    "X_train,X_test,y_train,y_test = train_test_split(x,y,test_size = 0.33)"
   ]
  },
  {
   "cell_type": "code",
   "execution_count": null,
   "id": "37e67c6d-801f-485b-91cf-a32855df037e",
   "metadata": {},
   "outputs": [],
   "source": [
    "from sklearn.linear_model import LinearRegression \n",
    "regression = LinearRegression() \n",
    "regression.fit(X_train,y_train) \n",
    "regression.coef_ \n",
    "regression.intercept_ \n",
    "prediction = regression.predict(X_test)\n",
    "print(prediction) \n",
    "y_test"
   ]
  },
  {
   "cell_type": "code",
   "execution_count": null,
   "id": "615ed721-d097-4e3c-ac6a-79d59c3f4966",
   "metadata": {},
   "outputs": [],
   "source": [
    "from sklearn.metrics import r2_score  \n",
    "r2_score(y_test,prediction) \n",
    "from sklearn.metrics import mean_squared_error \n",
    "MSE = mean_squared_error(y_test,prediction) \n",
    "MSE  \n",
    "RMSE = np.sqrt(MSE) \n",
    "RMSE \n",
    "3.156187085348032"
   ]
  },
  {
   "cell_type": "code",
   "execution_count": null,
   "id": "5bf81937-c73d-4710-bc34-2af2941fbc4a",
   "metadata": {},
   "outputs": [],
   "source": [
    "from sklearn.ensemble import RandomForestRegressor \n",
    "rf = RandomForestRegressor(n_estimators=100) #Here n_estimators means number of trees you want to build before making the prediction \n",
    "rf.fit(X_train,y_train) \n",
    "y_pred = rf.predict(X_test) \n",
    "y_pred \n",
    "array([ 5.714 , 10.285 , 12.68 , ..., 6.338 , 19.4685, 7.712 ]) "
   ]
  }
 ],
 "metadata": {
  "kernelspec": {
   "display_name": "Python 3 (ipykernel)",
   "language": "python",
   "name": "python3"
  },
  "language_info": {
   "codemirror_mode": {
    "name": "ipython",
    "version": 3
   },
   "file_extension": ".py",
   "mimetype": "text/x-python",
   "name": "python",
   "nbconvert_exporter": "python",
   "pygments_lexer": "ipython3",
   "version": "3.12.4"
  }
 },
 "nbformat": 4,
 "nbformat_minor": 5
}
