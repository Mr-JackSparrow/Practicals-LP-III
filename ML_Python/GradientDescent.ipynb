{
 "cells": [
  {
   "cell_type": "code",
   "execution_count": null,
   "id": "336bffab-5c70-401a-9b7f-5084e8f1f64d",
   "metadata": {},
   "outputs": [],
   "source": [
    "import numpy as np\n",
    "import matplotlib.pyplot as plt\n",
    "\n",
    "def f(x):\n",
    "    return (x + 3) ** 2\n",
    "\n",
    "def df(x):\n",
    "    return 2 * (x + 3)\n",
    "\n",
    "def gradient_descent(initial_x, learning_rate, num_iterations):\n",
    "    x = initial_x\n",
    "    x_history = [x]\n",
    "\n",
    "    for i in range(num_iterations):\n",
    "        gradient = df(x)\n",
    "        x -= learning_rate * gradient\n",
    "        x_history.append(x)\n",
    "\n",
    "    return x, x_history\n",
    "\n",
    "initial_x = 0\n",
    "learning_rate = 0.1\n",
    "num_iterations = 50\n",
    "\n",
    "x, x_history = gradient_descent(initial_x, learning_rate, num_iterations)\n",
    "\n",
    "print(\"Local minimum: {:.2f}\".format(x))\n",
    "\n",
    "# Create a range of x values to plot\n",
    "x_vals = np.linspace(-10, 4, 100)\n",
    "\n",
    "# Plot the function f(x)\n",
    "plt.plot(x_vals, f(x_vals))\n",
    "\n",
    "# Plot the values of x at each iteration\n",
    "plt.plot(x_history, f(np.array(x_history)), 'rx')\n",
    "\n",
    "# Label the axes and add a title\n",
    "plt.xlabel('x')\n",
    "plt.ylabel('f(x)')\n",
    "plt.title('Gradient Descent')\n",
    "\n",
    "# Show the plot\n",
    "plt.show()\n"
   ]
  }
 ],
 "metadata": {
  "kernelspec": {
   "display_name": "Python 3 (ipykernel)",
   "language": "python",
   "name": "python3"
  },
  "language_info": {
   "codemirror_mode": {
    "name": "ipython",
    "version": 3
   },
   "file_extension": ".py",
   "mimetype": "text/x-python",
   "name": "python",
   "nbconvert_exporter": "python",
   "pygments_lexer": "ipython3",
   "version": "3.12.4"
  }
 },
 "nbformat": 4,
 "nbformat_minor": 5
}
